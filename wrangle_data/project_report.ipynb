{
 "cells": [
  {
   "cell_type": "markdown",
   "metadata": {},
   "source": [
    "# OpenStreetMap Data Case Study\n",
    "\n",
    "## Map Area\n",
    "Central Singapore, Singapore\n",
    "\n",
    "<img src=\"https://dl.dropboxusercontent.com/s/wugrsslbv6ml312/central_singapore.png\" width=\"414\" height=\"407\" />\n",
    "\n",
    "- [MapZen](https://mapzen.com/data/metro-extracts/your-extracts/b64f3acb79eb)\n",
    "\n",
    "The map that I’ve chosen is Central Singapore, which is a part of the country that I’m currently living. The map is retrieved by using custom extracts function provided by Mapzen."
   ]
  },
  {
   "cell_type": "markdown",
   "metadata": {},
   "source": [
    "## 1. Problems Encountered in the Map"
   ]
  },
  {
   "cell_type": "markdown",
   "metadata": {},
   "source": [
    "After auditing a subsample of the original map data, I noticed two main problems with the data:\n",
    "- Abbreviated street name  *('Orchard Rd')*\n",
    "- Incorrect postal codes (Singapore’s postal code is 6-digit numbers but a large portion of the postal codes only consist 5-digit)"
   ]
  },
  {
   "cell_type": "markdown",
   "metadata": {},
   "source": [
    "### Abbreviated Street Name"
   ]
  },
  {
   "cell_type": "markdown",
   "metadata": {},
   "source": [
    "In Singapore map, the name abbreviations can appear in any position of the street address, not just at the end of the street name. To find the list of abbreviations, I first compared the street name with a list of possible keywords that could appear in typical address in Singapore map. Beside regular keywords such as *Street* and *Avenue*, the list also includes some local keywords such as *Jalan*, *Lorong* and *Taman* which are commonly used in Singapore’s street name. "
   ]
  },
  {
   "cell_type": "markdown",
   "metadata": {},
   "source": [
    "\n",
    "```python\n",
    "# The list of possible street keywords in Singapore map\n",
    "expected_street= [\"Street\", \"Avenue\", \"Boulevard\", \"Central\", \"Circle\", \"Close\", \"Crescent\", \n",
    "            \"Court\", \"Drive\", \"Grove\", \"Heights\", \"Jalan\", \"Park\", \"Place\", \n",
    "            \"Square\", \"Loop\", \"Lane\", \"Link\", \"Lorong\", \n",
    "            \"Road\",  \"Taman\", \"Terrace\",  \"Trail\", \"View\", \"Walk\", \"Way\" ]\n",
    "            \n",
    "def compare_street_name(street_types, street_name):\n",
    "    '''\n",
    "    This function checks if the street name contains any of the defined possible keywords.\n",
    "    If no, the street name is stored in a dictionary with the last word\n",
    "    of the street name as the key.    \n",
    "    '''\n",
    "    if not list(set(street_name.split()).intersection(set(expected_street))):\n",
    "        street_types[street_name.split()[-1]].add(street_name)            \n",
    "```"
   ]
  },
  {
   "cell_type": "markdown",
   "metadata": {},
   "source": [
    "In the above function, if the street name doesn’t contain any possible keywords, the street name is stored in *street_types* dictionary with the last word of the street name as the key. After inspecting the *street_types* dictionary, I managed to find a few commonly used abbreviations in the street address. These abbreviations were corrected before the map was converted to JSON format. "
   ]
  },
  {
   "cell_type": "markdown",
   "metadata": {},
   "source": [
    "### Incorrect Postal Codes"
   ]
  },
  {
   "cell_type": "markdown",
   "metadata": {},
   "source": [
    "In Singapore, all postal codes are consisted of six digits. After auditing the postal codes using the following function, I found that a few addresses have postal code with only five digits and all these addresses are contributed by the same user,  `JaLooNz`. After cross referencing these five digits postal codes with Google Map, I discovered that this particular user has the tendency of omitting the first digit of the postal code starts with 0. For instance, *'069544'* corresponding to Cecil Street in Singapore was stored as *'69544'* in the map data. "
   ]
  },
  {
   "cell_type": "markdown",
   "metadata": {},
   "source": [
    "```python\n",
    "def compare_postcode(user_postcodes, postcode, user, street_name):\n",
    "    '''\n",
    "    This function checks whether the postal code is 6 digits.  \n",
    "    If the postal code is not 6 digits, the postal code is stored in \n",
    "    a dictionary with the user name as the key.\n",
    "    '''\n",
    "    if len(postcode)!=6:\n",
    "        user_postcodes[user].add(postcode)    \n",
    "        \n",
    "        # Print the streetname along with the postal code\n",
    "        print(street_name + \": \" + postcode)\n",
    "```"
   ]
  },
  {
   "cell_type": "markdown",
   "metadata": {},
   "source": [
    "To correct these incorrect postal codes, I simply appended '0' at the front of these postal codes contributed by user `JaLooNz`."
   ]
  },
  {
   "cell_type": "markdown",
   "metadata": {},
   "source": [
    "## 2. Data Overview"
   ]
  },
  {
   "cell_type": "markdown",
   "metadata": {},
   "source": [
    "This section contains basic statistics about the dataset and the MongoDB queries used to gather them."
   ]
  },
  {
   "cell_type": "markdown",
   "metadata": {},
   "source": [
    "### File sizes\n",
    "```\n",
    "central_singapore.osm ....... 110 MB\n",
    "central_singapore.json....... 158 MB\n",
    "```"
   ]
  },
  {
   "cell_type": "code",
   "execution_count": 15,
   "metadata": {
    "collapsed": true
   },
   "outputs": [],
   "source": [
    "# Import the necessary libraries\n",
    "import pandas as pd\n",
    "from pymongo import MongoClient\n",
    "import pprint\n",
    "import seaborn as sns\n",
    "import matplotlib.pyplot as plt\n",
    "%matplotlib inline\n",
    "\n",
    "def get_db():\n",
    "    '''\n",
    "    The json file was first imported to MongoDB database \n",
    "    by using following command:\n",
    "    mongoimport -d maps -c sg --file central_singapore.json\n",
    "    '''\n",
    "    client = MongoClient(\"mongodb://localhost:27017\")\n",
    "    db = client.maps\n",
    "    return db\n",
    "\n",
    "db = get_db()"
   ]
  },
  {
   "cell_type": "markdown",
   "metadata": {},
   "source": [
    "### Number of Documents"
   ]
  },
  {
   "cell_type": "code",
   "execution_count": 5,
   "metadata": {},
   "outputs": [
    {
     "data": {
      "text/plain": [
       "572149"
      ]
     },
     "execution_count": 5,
     "metadata": {},
     "output_type": "execute_result"
    }
   ],
   "source": [
    "db.sg.find().count()       "
   ]
  },
  {
   "cell_type": "markdown",
   "metadata": {},
   "source": [
    "### Number of Nodes"
   ]
  },
  {
   "cell_type": "code",
   "execution_count": 6,
   "metadata": {},
   "outputs": [
    {
     "data": {
      "text/plain": [
       "487381"
      ]
     },
     "execution_count": 6,
     "metadata": {},
     "output_type": "execute_result"
    }
   ],
   "source": [
    "query = {\"type\": \"node\"} \n",
    "db.sg.find(query).count()"
   ]
  },
  {
   "cell_type": "markdown",
   "metadata": {},
   "source": [
    "### Number of Ways"
   ]
  },
  {
   "cell_type": "code",
   "execution_count": 7,
   "metadata": {},
   "outputs": [
    {
     "data": {
      "text/plain": [
       "84768"
      ]
     },
     "execution_count": 7,
     "metadata": {},
     "output_type": "execute_result"
    }
   ],
   "source": [
    "query = {\"type\": \"way\"} \n",
    "db.sg.find(query).count()"
   ]
  },
  {
   "cell_type": "markdown",
   "metadata": {},
   "source": [
    "### Number of Unique Users"
   ]
  },
  {
   "cell_type": "code",
   "execution_count": 10,
   "metadata": {},
   "outputs": [
    {
     "data": {
      "text/plain": [
       "1027"
      ]
     },
     "execution_count": 10,
     "metadata": {},
     "output_type": "execute_result"
    }
   ],
   "source": [
    "len(db.sg.distinct(\"created.user\"))"
   ]
  },
  {
   "cell_type": "markdown",
   "metadata": {},
   "source": [
    "### Top 10 Contributing Users"
   ]
  },
  {
   "cell_type": "code",
   "execution_count": 49,
   "metadata": {},
   "outputs": [
    {
     "data": {
      "image/png": "[encoded data removed]",
      "text/plain": [
       "<matplotlib.figure.Figure at 0x211953ba400>"
      ]
     },
     "metadata": {},
     "output_type": "display_data"
    }
   ],
   "source": [
    "pipeline = [\n",
    "        {\"$group\": {\"_id\": \"$created.user\",\n",
    "                    \"count\": {\"$sum\": 1} } } ,\n",
    "        {\"$sort\": {\"count\": -1}},\n",
    "        {\"$limit\": 10}        \n",
    "        ]\n",
    "   \n",
    "result = [doc for doc in db.sg.aggregate(pipeline)]\n",
    "df = pd.DataFrame(result)\n",
    "\n",
    "# Plot the top 10 contributing users\n",
    "plt.figure(figsize=(14,7))\n",
    "sns.set_style('darkgrid')\n",
    "sns.barplot(x = \"_id\",y = \"count\",\n",
    "            data = df, color = 'b', alpha = 0.7).set(xlabel = 'User',\n",
    "                                                     ylabel = 'Number of Contributions',\n",
    "                                                     title = \"Top 10 Contributing Users\");"
   ]
  },
  {
   "cell_type": "code",
   "execution_count": 59,
   "metadata": {},
   "outputs": [
    {
     "name": "stdout",
     "output_type": "stream",
     "text": [
      "The most contributing user, JaLooNz contributed about 31.11% of this dataset.\n",
      "Top 10 contributing users provided approximately 59.13% of this dataset.\n"
     ]
    }
   ],
   "source": [
    "print(\"The most contributing user, {} contributed about {:,.2f}% of this dataset.\" \\\n",
    "      .format(df.iloc[0][\"_id\"], \\\n",
    "              df.iloc[0][\"count\"]/db.sg.find().count()*100 ))\n",
    "\n",
    "print(\"Top 10 contributing users provided approximately {:,.2f}% of this dataset.\"\\\n",
    "     .format(sum(df[\"count\"])/db.sg.find().count()*100))"
   ]
  },
  {
   "cell_type": "markdown",
   "metadata": {},
   "source": [
    "It is interesting to notice that the most contributing user, `JaLooNz` is also the same user who omitting a lot of first digit of the postal code starts with 0."
   ]
  },
  {
   "cell_type": "markdown",
   "metadata": {},
   "source": [
    "## 3. Additional Data Exploration Using MongoDB Queries"
   ]
  },
  {
   "cell_type": "markdown",
   "metadata": {},
   "source": [
    "### Top 10 Appearing Amenities"
   ]
  },
  {
   "cell_type": "code",
   "execution_count": 47,
   "metadata": {},
   "outputs": [
    {
     "data": {
      "image/png": "[encoded data removed]",
      "text/plain": [
       "<matplotlib.figure.Figure at 0x21195beb4e0>"
      ]
     },
     "metadata": {},
     "output_type": "display_data"
    }
   ],
   "source": [
    "pipeline = [\n",
    "        {\"$match\": {\"amenity\": {\"$exists\": 1} } },\n",
    "        {\"$group\": {\"_id\": \"$amenity\",\n",
    "                    \"count\": {\"$sum\": 1} } } ,\n",
    "        {\"$sort\": {\"count\": -1}},\n",
    "        {\"$limit\": 10}        \n",
    "        ]\n",
    "   \n",
    "result = [doc for doc in db.sg.aggregate(pipeline)]\n",
    "df = pd.DataFrame(result)\n",
    "\n",
    "# Plot the top 10 appearing amenities\n",
    "plt.figure(figsize=(14,7))\n",
    "sns.set_style('darkgrid')\n",
    "sns.barplot(x = \"_id\",y = \"count\",\n",
    "            data = df, color = 'b', alpha = 0.7).set(xlabel = 'Amenity',\n",
    "                                                     ylabel = 'Number of Appearance',                                                           \n",
    "                                                     title = \"Top 10 Appearing Amenities in Central Singapore\");"
   ]
  },
  {
   "cell_type": "markdown",
   "metadata": {},
   "source": [
    "### Most Popular Cuisines"
   ]
  },
  {
   "cell_type": "code",
   "execution_count": 46,
   "metadata": {},
   "outputs": [
    {
     "data": {
      "image/png": "[encoded data removed]",
      "text/plain": [
       "<matplotlib.figure.Figure at 0x211952c46a0>"
      ]
     },
     "metadata": {},
     "output_type": "display_data"
    }
   ],
   "source": [
    "pipeline = [\n",
    "        {\"$match\": {\"amenity\": {\"$exists\": 1},\n",
    "                    \"cuisine\": {\"$exists\": 1},\n",
    "                    \"amenity\": \"restaurant\"}},\n",
    "        {\"$group\": {\"_id\": \"$cuisine\",\n",
    "                    \"count\": {\"$sum\": 1} } } ,\n",
    "        {\"$sort\": {\"count\": -1}},\n",
    "        {\"$limit\": 5}        \n",
    "        ]\n",
    "result = [doc for doc in db.sg.aggregate(pipeline)]\n",
    "df = pd.DataFrame(result) \n",
    "\n",
    "# Plot the Top 5 Most Popular Cuisines\n",
    "plt.figure(figsize=(14,7))\n",
    "sns.set_style('darkgrid')\n",
    "sns.barplot(x = \"_id\",y = \"count\",\n",
    "            data = df, color = 'b', alpha = 0.7).set(xlabel = 'Cuisine',\n",
    "                                                     ylabel = 'Number of Restaurants', \n",
    "                                                     title = \"Top 5 Cuisines in Singapore\");"
   ]
  },
  {
   "cell_type": "markdown",
   "metadata": {},
   "source": [
    "### Bank With Most Number of Branches"
   ]
  },
  {
   "cell_type": "code",
   "execution_count": 45,
   "metadata": {},
   "outputs": [
    {
     "data": {
      "image/png": "[encoded data removed]",
      "text/plain": [
       "<matplotlib.figure.Figure at 0x21195aba7b8>"
      ]
     },
     "metadata": {},
     "output_type": "display_data"
    }
   ],
   "source": [
    "pipeline = [\n",
    "        {\"$match\": {\"amenity\": {\"$exists\": 1},\n",
    "                    \"name\": {\"$exists\": 1},\n",
    "                    \"amenity\": \"bank\"}},\n",
    "        {\"$group\": {\"_id\": \"$name\",\n",
    "                    \"count\": {\"$sum\": 1} } } ,\n",
    "        {\"$sort\": {\"count\": -1}},\n",
    "        {\"$limit\": 5}        \n",
    "        ]\n",
    "result = [doc for doc in db.sg.aggregate(pipeline)]\n",
    "df = pd.DataFrame(result) \n",
    "\n",
    "# Plot the Top 5 Bank With Most Number of Branches\n",
    "plt.figure(figsize=(14,7))\n",
    "sns.set_style('darkgrid')\n",
    "sns.barplot(x = \"_id\",y = \"count\",\n",
    "            data = df, color = 'b', alpha = 0.7).set(xlabel = 'Bank',\n",
    "                                                     ylabel = 'Number of Branches',                         \n",
    "                                                     title = \"Top 5 Bank With Most Number of Branches in Central Singapore\");"
   ]
  },
  {
   "cell_type": "markdown",
   "metadata": {},
   "source": [
    "## 4. Additional Improvements Idea"
   ]
  },
  {
   "cell_type": "markdown",
   "metadata": {},
   "source": [
    "### Postal Codes Which Are Not 6-Digit Numbers"
   ]
  },
  {
   "cell_type": "code",
   "execution_count": 61,
   "metadata": {},
   "outputs": [
    {
     "name": "stdout",
     "output_type": "stream",
     "text": [
      "{'address': {'postcode': '135', 'street': 'Jalan Pelatina'}}\n",
      "{'address': {'postcode': 'Singapore 408564', 'street': 'Blk 10 Ubi Crescent'}}\n",
      "{'address': {'postcode': '2424', 'street': 'Orchard Road'}}\n",
      "{'address': {'postcode': 'S 278989', 'street': 'Holland Avenue'}}\n",
      "{'address': {'postcode': '88752'}}\n",
      "{'address': {'postcode': '40893', 'street': 'North Bridge Road'}}\n",
      "{'address': {'postcode': '4374400', 'street': 'Rhu Cross'}}\n",
      "{'address': {'postcode': '437 437', 'street': 'Rhu Cross'}}\n",
      "{'address': {'postcode': '80739', 'street': 'Saraca Road'}}\n",
      "{'address': {'postcode': '80464', 'street': 'Mimosa Drive'}}\n",
      "{'address': {'postcode': '80463', 'street': 'Mimosa Drive'}}\n",
      "{'address': {'postcode': '80800', 'street': 'Mimosa Road'}}\n",
      "{'address': {'postcode': '74', 'street': '310074'}}\n",
      "{'address': {'postcode': '562', 'street': 'Hougang street 51'}}\n"
     ]
    }
   ],
   "source": [
    "query ={\"address.postcode\": {\"$exists\": 1},\n",
    "        \"$where\": \"this.address.postcode.length!=6\"}\n",
    "projection = {\"_id\": 0, \"address.postcode\": 1, \"address.street\": 1}\n",
    "postcodes = db.sg.find(query, projection)\n",
    "\n",
    "# Print the problematic postal codes along with user name    \n",
    "for code in postcodes:\n",
    "    pprint.pprint(code)"
   ]
  },
  {
   "cell_type": "markdown",
   "metadata": {},
   "source": [
    "While majority of the incorrect postal codes have been updated before converting JSON format, there are still many incorrect or inconsistent format postal codes in the dataset. These are individual isolated cases and difficult to be corrected programmatically. It could be done manually by cross referencing to third party dataset like Google or Bing."
   ]
  },
  {
   "cell_type": "markdown",
   "metadata": {},
   "source": [
    "## 5. Conclusion"
   ]
  },
  {
   "cell_type": "markdown",
   "metadata": {},
   "source": [
    "Although this Central Singapore map data is relatively clean when compared to other metropolitan areas, I believe there are a few areas of improvement. First, about 31.11% of this dataset was contributed by a single user. Since I already discovered many incorrect postal codes in the address tags contributed by this user, I believe there are potential errors in other tags which I have yet to look at in detail. This would require significant amount of time and effort. Secondly, while doing data exploration exercises using MongoDB queries, I discovered that many amenities doesn’t have a name attribute. These names could be added to the map to make the dataset more complete. "
   ]
  }
 ],
 "metadata": {
  "kernelspec": {
   "display_name": "Python 3",
   "language": "python",
   "name": "python3"
  },
  "language_info": {
   "codemirror_mode": {
    "name": "ipython",
    "version": 3
   },
   "file_extension": ".py",
   "mimetype": "text/x-python",
   "name": "python",
   "nbconvert_exporter": "python",
   "pygments_lexer": "ipython3",
   "version": "3.5.3"
  }
 },
 "nbformat": 4,
 "nbformat_minor": 2
}

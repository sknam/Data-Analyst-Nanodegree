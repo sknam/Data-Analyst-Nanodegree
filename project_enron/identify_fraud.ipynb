{
 "cells": [
  {
   "cell_type": "markdown",
   "metadata": {},
   "source": [
    "# Identify Fraud from Enron Email"
   ]
  },
  {
   "cell_type": "markdown",
   "metadata": {},
   "source": [
    "## 1. Introduction\n",
    "\n",
    "In 2000, Enron was one of the largest companies in the United States. By 2002, it had collapsed into bankruptcy due to widespread corporate fraud. In the resulting Federal investigation, a significant amount of typically confidential information entered into the public record, including tens of thousands of emails and detailed financial data for top executives. The purpose of this project is using machine learning methods to identify Enron employees who may have committed fraud based on the public Enron financial and email dataset."
   ]
  },
  {
   "cell_type": "markdown",
   "metadata": {},
   "source": [
    "## 2. Data Exploration\n",
    "\n",
    "The features in the Enron dataset fall into three major types, namely financial features, email features and POI labels.\n",
    "\n",
    "**financial features**: ['salary', 'deferral_payments', 'total_payments', 'loan_advances', 'bonus', 'restricted_stock_deferred', 'deferred_income', 'total_stock_value', 'expenses', 'exercised_stock_options', 'other', 'long_term_incentive', 'restricted_stock', 'director_fees'] (all units are in US dollars)\n",
    "\n",
    "**email features**: ['to_messages', 'email_address', 'from_poi_to_this_person', 'from_messages', 'from_this_person_to_poi', 'shared_receipt_with_poi'] (units are generally number of emails messages; notable exception is ‘email_address’, which is a text string)\n",
    "\n",
    "**POI label**: ['poi'] (boolean, represented as integer)"
   ]
  },
  {
   "cell_type": "code",
   "execution_count": 3,
   "metadata": {},
   "outputs": [],
   "source": [
    "# Import libraries necessary for this project\n",
    "\n",
    "import sys\n",
    "import pickle\n",
    "sys.path.append(\"../tools/\")\n",
    "\n",
    "import pandas as pd\n",
    "import numpy as np\n",
    "import matplotlib.pyplot as plt\n",
    "import matplotlib as mpl\n",
    "import warnings;\n",
    "warnings.simplefilter('ignore')\n",
    "warnings.filterwarnings(\"ignore\")\n",
    "import seaborn as sns\n",
    "%matplotlib inline\n",
    "\n",
    "from sklearn.cross_validation import train_test_split\n",
    "from sklearn.preprocessing import MinMaxScaler\n",
    "from sklearn.feature_selection import SelectKBest, f_classif\n",
    "from sklearn.cross_validation import StratifiedShuffleSplit\n",
    "from sklearn.metrics import classification_report\n",
    "from sklearn.metrics import accuracy_score, precision_score\n",
    "from sklearn.metrics import recall_score, f1_score\n",
    "from sklearn.metrics import make_scorer\n",
    "from sklearn.grid_search import GridSearchCV\n",
    "from sklearn.ensemble import AdaBoostClassifier\n",
    "from sklearn.tree import DecisionTreeClassifier\n",
    "from sklearn.linear_model import LogisticRegression\n",
    "from sklearn.naive_bayes import GaussianNB\n",
    "\n",
    "from feature_format import featureFormat, targetFeatureSplit\n",
    "from tester import test_classifier, dump_classifier_and_data"
   ]
  },
  {
   "cell_type": "code",
   "execution_count": 16,
   "metadata": {},
   "outputs": [
    {
     "data": {
      "text/html": [
       "<div>\n",
       "<style>\n",
       "    .dataframe thead tr:only-child th {\n",
       "        text-align: right;\n",
       "    }\n",
       "\n",
       "    .dataframe thead th {\n",
       "        text-align: left;\n",
       "    }\n",
       "\n",
       "    .dataframe tbody tr th {\n",
       "        vertical-align: top;\n",
       "    }\n",
       "</style>\n",
       "<table border=\"1\" class=\"dataframe\">\n",
       "  <thead>\n",
       "    <tr style=\"text-align: right;\">\n",
       "      <th></th>\n",
       "      <th>name</th>\n",
       "      <th>salary</th>\n",
       "      <th>to_messages</th>\n",
       "      <th>deferral_payments</th>\n",
       "      <th>total_payments</th>\n",
       "      <th>exercised_stock_options</th>\n",
       "      <th>bonus</th>\n",
       "      <th>restricted_stock</th>\n",
       "      <th>shared_receipt_with_poi</th>\n",
       "      <th>restricted_stock_deferred</th>\n",
       "      <th>...</th>\n",
       "      <th>loan_advances</th>\n",
       "      <th>from_messages</th>\n",
       "      <th>other</th>\n",
       "      <th>from_this_person_to_poi</th>\n",
       "      <th>poi</th>\n",
       "      <th>director_fees</th>\n",
       "      <th>deferred_income</th>\n",
       "      <th>long_term_incentive</th>\n",
       "      <th>email_address</th>\n",
       "      <th>from_poi_to_this_person</th>\n",
       "    </tr>\n",
       "  </thead>\n",
       "  <tbody>\n",
       "    <tr>\n",
       "      <th>0</th>\n",
       "      <td>ALLEN PHILLIP K</td>\n",
       "      <td>201955.0</td>\n",
       "      <td>2902.0</td>\n",
       "      <td>2869717.0</td>\n",
       "      <td>4484442.0</td>\n",
       "      <td>1729541.0</td>\n",
       "      <td>4175000.0</td>\n",
       "      <td>126027.0</td>\n",
       "      <td>1407.0</td>\n",
       "      <td>-126027.0</td>\n",
       "      <td>...</td>\n",
       "      <td>NaN</td>\n",
       "      <td>2195.0</td>\n",
       "      <td>152.0</td>\n",
       "      <td>65.0</td>\n",
       "      <td>0.0</td>\n",
       "      <td>NaN</td>\n",
       "      <td>-3081055.0</td>\n",
       "      <td>304805.0</td>\n",
       "      <td>phillip.allen@enron.com</td>\n",
       "      <td>47.0</td>\n",
       "    </tr>\n",
       "    <tr>\n",
       "      <th>1</th>\n",
       "      <td>BADUM JAMES P</td>\n",
       "      <td>NaN</td>\n",
       "      <td>NaN</td>\n",
       "      <td>178980.0</td>\n",
       "      <td>182466.0</td>\n",
       "      <td>257817.0</td>\n",
       "      <td>NaN</td>\n",
       "      <td>NaN</td>\n",
       "      <td>NaN</td>\n",
       "      <td>NaN</td>\n",
       "      <td>...</td>\n",
       "      <td>NaN</td>\n",
       "      <td>NaN</td>\n",
       "      <td>NaN</td>\n",
       "      <td>NaN</td>\n",
       "      <td>0.0</td>\n",
       "      <td>NaN</td>\n",
       "      <td>NaN</td>\n",
       "      <td>NaN</td>\n",
       "      <td>NaN</td>\n",
       "      <td>NaN</td>\n",
       "    </tr>\n",
       "    <tr>\n",
       "      <th>2</th>\n",
       "      <td>BANNANTINE JAMES M</td>\n",
       "      <td>477.0</td>\n",
       "      <td>566.0</td>\n",
       "      <td>NaN</td>\n",
       "      <td>916197.0</td>\n",
       "      <td>4046157.0</td>\n",
       "      <td>NaN</td>\n",
       "      <td>1757552.0</td>\n",
       "      <td>465.0</td>\n",
       "      <td>-560222.0</td>\n",
       "      <td>...</td>\n",
       "      <td>NaN</td>\n",
       "      <td>29.0</td>\n",
       "      <td>864523.0</td>\n",
       "      <td>0.0</td>\n",
       "      <td>0.0</td>\n",
       "      <td>NaN</td>\n",
       "      <td>-5104.0</td>\n",
       "      <td>NaN</td>\n",
       "      <td>james.bannantine@enron.com</td>\n",
       "      <td>39.0</td>\n",
       "    </tr>\n",
       "    <tr>\n",
       "      <th>3</th>\n",
       "      <td>BAXTER JOHN C</td>\n",
       "      <td>267102.0</td>\n",
       "      <td>NaN</td>\n",
       "      <td>1295738.0</td>\n",
       "      <td>5634343.0</td>\n",
       "      <td>6680544.0</td>\n",
       "      <td>1200000.0</td>\n",
       "      <td>3942714.0</td>\n",
       "      <td>NaN</td>\n",
       "      <td>NaN</td>\n",
       "      <td>...</td>\n",
       "      <td>NaN</td>\n",
       "      <td>NaN</td>\n",
       "      <td>2660303.0</td>\n",
       "      <td>NaN</td>\n",
       "      <td>0.0</td>\n",
       "      <td>NaN</td>\n",
       "      <td>-1386055.0</td>\n",
       "      <td>1586055.0</td>\n",
       "      <td>NaN</td>\n",
       "      <td>NaN</td>\n",
       "    </tr>\n",
       "    <tr>\n",
       "      <th>4</th>\n",
       "      <td>BAY FRANKLIN R</td>\n",
       "      <td>239671.0</td>\n",
       "      <td>NaN</td>\n",
       "      <td>260455.0</td>\n",
       "      <td>827696.0</td>\n",
       "      <td>NaN</td>\n",
       "      <td>400000.0</td>\n",
       "      <td>145796.0</td>\n",
       "      <td>NaN</td>\n",
       "      <td>-82782.0</td>\n",
       "      <td>...</td>\n",
       "      <td>NaN</td>\n",
       "      <td>NaN</td>\n",
       "      <td>69.0</td>\n",
       "      <td>NaN</td>\n",
       "      <td>0.0</td>\n",
       "      <td>NaN</td>\n",
       "      <td>-201641.0</td>\n",
       "      <td>NaN</td>\n",
       "      <td>frank.bay@enron.com</td>\n",
       "      <td>NaN</td>\n",
       "    </tr>\n",
       "  </tbody>\n",
       "</table>\n",
       "<p>5 rows × 22 columns</p>\n",
       "</div>"
      ],
      "text/plain": [
       "                 name    salary  to_messages  deferral_payments  \\\n",
       "0     ALLEN PHILLIP K  201955.0       2902.0          2869717.0   \n",
       "1       BADUM JAMES P       NaN          NaN           178980.0   \n",
       "2  BANNANTINE JAMES M     477.0        566.0                NaN   \n",
       "3       BAXTER JOHN C  267102.0          NaN          1295738.0   \n",
       "4      BAY FRANKLIN R  239671.0          NaN           260455.0   \n",
       "\n",
       "   total_payments  exercised_stock_options      bonus  restricted_stock  \\\n",
       "0       4484442.0                1729541.0  4175000.0          126027.0   \n",
       "1        182466.0                 257817.0        NaN               NaN   \n",
       "2        916197.0                4046157.0        NaN         1757552.0   \n",
       "3       5634343.0                6680544.0  1200000.0         3942714.0   \n",
       "4        827696.0                      NaN   400000.0          145796.0   \n",
       "\n",
       "   shared_receipt_with_poi  restricted_stock_deferred  \\\n",
       "0                   1407.0                  -126027.0   \n",
       "1                      NaN                        NaN   \n",
       "2                    465.0                  -560222.0   \n",
       "3                      NaN                        NaN   \n",
       "4                      NaN                   -82782.0   \n",
       "\n",
       "            ...             loan_advances  from_messages      other  \\\n",
       "0           ...                       NaN         2195.0      152.0   \n",
       "1           ...                       NaN            NaN        NaN   \n",
       "2           ...                       NaN           29.0   864523.0   \n",
       "3           ...                       NaN            NaN  2660303.0   \n",
       "4           ...                       NaN            NaN       69.0   \n",
       "\n",
       "   from_this_person_to_poi  poi  director_fees  deferred_income  \\\n",
       "0                     65.0  0.0            NaN       -3081055.0   \n",
       "1                      NaN  0.0            NaN              NaN   \n",
       "2                      0.0  0.0            NaN          -5104.0   \n",
       "3                      NaN  0.0            NaN       -1386055.0   \n",
       "4                      NaN  0.0            NaN        -201641.0   \n",
       "\n",
       "   long_term_incentive               email_address  from_poi_to_this_person  \n",
       "0             304805.0     phillip.allen@enron.com                     47.0  \n",
       "1                  NaN                         NaN                      NaN  \n",
       "2                  NaN  james.bannantine@enron.com                     39.0  \n",
       "3            1586055.0                         NaN                      NaN  \n",
       "4                  NaN         frank.bay@enron.com                      NaN  \n",
       "\n",
       "[5 rows x 22 columns]"
      ]
     },
     "execution_count": 16,
     "metadata": {},
     "output_type": "execute_result"
    }
   ],
   "source": [
    "# Load the dictionary containing the dataset\n",
    "with open(\"final_project_dataset.pkl\", \"r\") as data_file:\n",
    "    data_dict = pickle.load(data_file)\n",
    "\n",
    "# Create DataFrame from dictionary\n",
    "df = pd.DataFrame.from_dict(data_dict, orient='index', dtype=np.float)\n",
    "df.reset_index(inplace=True)\n",
    "df.rename(columns={'index': 'name'}, inplace=True)\n",
    "df.head()"
   ]
  },
  {
   "cell_type": "code",
   "execution_count": 17,
   "metadata": {},
   "outputs": [
    {
     "name": "stdout",
     "output_type": "stream",
     "text": [
      "List of features:\n",
      "['poi', 'salary', 'to_messages', 'deferral_payments', 'total_payments', 'exercised_stock_options', 'bonus', 'restricted_stock', 'shared_receipt_with_poi', 'restricted_stock_deferred', 'total_stock_value', 'expenses', 'loan_advances', 'from_messages', 'other', 'from_this_person_to_poi', 'director_fees', 'deferred_income', 'long_term_incentive', 'from_poi_to_this_person']\n"
     ]
    }
   ],
   "source": [
    "# Select the features to be used\n",
    "# Put 'poi' as first features and remove 'email_address' and 'name'\n",
    "features_list = ['poi']  +  [feature for feature in df if feature != 'poi' \n",
    "                              and feature != 'email_address' and feature != 'name']\n",
    "\n",
    "print \"List of features:\"\n",
    "print features_list"
   ]
  },
  {
   "cell_type": "code",
   "execution_count": 18,
   "metadata": {},
   "outputs": [
    {
     "name": "stdout",
     "output_type": "stream",
     "text": [
      "Total number of data points: 146\n",
      "Number of person of interest (POI): 18\n",
      "Number of selected features: 20\n"
     ]
    }
   ],
   "source": [
    "print \"Total number of data points:\", df.shape[0]\n",
    "print \"Number of person of interest (POI):\", len(df[df['poi']==1])\n",
    "print \"Number of selected features:\", len(features_list)"
   ]
  },
  {
   "cell_type": "code",
   "execution_count": 12,
   "metadata": {},
   "outputs": [
    {
     "data": {
      "image/png": "[encoded data removed]",
      "text/plain": [
       "<matplotlib.figure.Figure at 0x1f2f8518>"
      ]
     },
     "metadata": {},
     "output_type": "display_data"
    }
   ],
   "source": [
    "# Plot the proportion of POI\n",
    "plt.title('Proportion of POI in Enron Dataset')\n",
    "plt.pie([len(df[df['poi']==1]),len(df[df['poi']==0])], shadow=True, startangle=90, autopct='%1.2f%%', \n",
    "        labels =['POI','Non-POI']);\n",
    "plt.axis('equal');"
   ]
  },
  {
   "cell_type": "markdown",
   "metadata": {},
   "source": [
    "In this Enron dataset, only 12.33% of the employees are POI. This implies the data has unbalance class distribution where the number of POI is greatly smaller than number of non-POI. "
   ]
  },
  {
   "cell_type": "markdown",
   "metadata": {},
   "source": [
    "## 3. Missing  Value and Outlier Investigation"
   ]
  },
  {
   "cell_type": "markdown",
   "metadata": {},
   "source": [
    "### Missing Values\n",
    "\n",
    "First we calculate and plot the percentage of missing values in each features."
   ]
  },
  {
   "cell_type": "code",
   "execution_count": 19,
   "metadata": {},
   "outputs": [
    {
     "data": {
      "image/png": "[encoded data removed]",
      "text/plain": [
       "<matplotlib.figure.Figure at 0x1f0fc198>"
      ]
     },
     "metadata": {},
     "output_type": "display_data"
    }
   ],
   "source": [
    "# Calculate the percentage of missing values in each features\n",
    "nan_percentage = np.array([float(len(df[df[feature].isnull()]))/len(df) for feature in features_list])*100\n",
    "\n",
    "# Plot the percentage\n",
    "plt.figure(figsize=(15,6))\n",
    "y_pos = np.arange(len(features_list))\n",
    "plt.bar(y_pos,nan_percentage)\n",
    "plt.xticks(y_pos, features_list, rotation=70);\n",
    "plt.ylabel('Percentage (%)');\n",
    "plt.title('Percentage of Missing Values in Each Features');"
   ]
  },
  {
   "cell_type": "markdown",
   "metadata": {},
   "source": [
    "From the graph, we can see that there are a lot missing values or NaN in the dataset. This is the imperfect data problem commonly found in real-world dataset."
   ]
  },
  {
   "cell_type": "markdown",
   "metadata": {},
   "source": [
    "### Outliers"
   ]
  },
  {
   "cell_type": "markdown",
   "metadata": {},
   "source": [
    "By skimming [enron61702insiderpay.pdf](https://github.com/udacity/ud120-projects/raw/master/final_project/enron61702insiderpay.pdf) file that consists of financial information of Enron employees, we can notice the following outliers from the last two rows of the spreadsheet:  \n",
    "* **`'TOTAL'`** is the summary of every column in the spreadsheet.\n",
    "* **`'THE TRAVEL AGENCY IN THE PARK'`** is the account of business-related travel to The Travel Agency in the Park and not an Enron employee.\n",
    "\n",
    "Next, we examine the person who has NaN value for `'total_payments'` and `'total_stock_value'` (because these two features represent the total sum of payments and stock value)."
   ]
  },
  {
   "cell_type": "code",
   "execution_count": 20,
   "metadata": {},
   "outputs": [
    {
     "data": {
      "text/html": [
       "<div>\n",
       "<style>\n",
       "    .dataframe thead tr:only-child th {\n",
       "        text-align: right;\n",
       "    }\n",
       "\n",
       "    .dataframe thead th {\n",
       "        text-align: left;\n",
       "    }\n",
       "\n",
       "    .dataframe tbody tr th {\n",
       "        vertical-align: top;\n",
       "    }\n",
       "</style>\n",
       "<table border=\"1\" class=\"dataframe\">\n",
       "  <thead>\n",
       "    <tr style=\"text-align: right;\">\n",
       "      <th></th>\n",
       "      <th>name</th>\n",
       "      <th>salary</th>\n",
       "      <th>to_messages</th>\n",
       "      <th>deferral_payments</th>\n",
       "      <th>total_payments</th>\n",
       "      <th>exercised_stock_options</th>\n",
       "      <th>bonus</th>\n",
       "      <th>restricted_stock</th>\n",
       "      <th>shared_receipt_with_poi</th>\n",
       "      <th>restricted_stock_deferred</th>\n",
       "      <th>...</th>\n",
       "      <th>loan_advances</th>\n",
       "      <th>from_messages</th>\n",
       "      <th>other</th>\n",
       "      <th>from_this_person_to_poi</th>\n",
       "      <th>poi</th>\n",
       "      <th>director_fees</th>\n",
       "      <th>deferred_income</th>\n",
       "      <th>long_term_incentive</th>\n",
       "      <th>email_address</th>\n",
       "      <th>from_poi_to_this_person</th>\n",
       "    </tr>\n",
       "  </thead>\n",
       "  <tbody>\n",
       "    <tr>\n",
       "      <th>23</th>\n",
       "      <td>CHAN RONNIE</td>\n",
       "      <td>NaN</td>\n",
       "      <td>NaN</td>\n",
       "      <td>NaN</td>\n",
       "      <td>NaN</td>\n",
       "      <td>NaN</td>\n",
       "      <td>NaN</td>\n",
       "      <td>32460.0</td>\n",
       "      <td>NaN</td>\n",
       "      <td>-32460.0</td>\n",
       "      <td>...</td>\n",
       "      <td>NaN</td>\n",
       "      <td>NaN</td>\n",
       "      <td>NaN</td>\n",
       "      <td>NaN</td>\n",
       "      <td>0.0</td>\n",
       "      <td>98784.0</td>\n",
       "      <td>-98784.0</td>\n",
       "      <td>NaN</td>\n",
       "      <td>NaN</td>\n",
       "      <td>NaN</td>\n",
       "    </tr>\n",
       "    <tr>\n",
       "      <th>84</th>\n",
       "      <td>LOCKHART EUGENE E</td>\n",
       "      <td>NaN</td>\n",
       "      <td>NaN</td>\n",
       "      <td>NaN</td>\n",
       "      <td>NaN</td>\n",
       "      <td>NaN</td>\n",
       "      <td>NaN</td>\n",
       "      <td>NaN</td>\n",
       "      <td>NaN</td>\n",
       "      <td>NaN</td>\n",
       "      <td>...</td>\n",
       "      <td>NaN</td>\n",
       "      <td>NaN</td>\n",
       "      <td>NaN</td>\n",
       "      <td>NaN</td>\n",
       "      <td>0.0</td>\n",
       "      <td>NaN</td>\n",
       "      <td>NaN</td>\n",
       "      <td>NaN</td>\n",
       "      <td>NaN</td>\n",
       "      <td>NaN</td>\n",
       "    </tr>\n",
       "    <tr>\n",
       "      <th>108</th>\n",
       "      <td>POWERS WILLIAM</td>\n",
       "      <td>NaN</td>\n",
       "      <td>653.0</td>\n",
       "      <td>NaN</td>\n",
       "      <td>NaN</td>\n",
       "      <td>NaN</td>\n",
       "      <td>NaN</td>\n",
       "      <td>NaN</td>\n",
       "      <td>12.0</td>\n",
       "      <td>NaN</td>\n",
       "      <td>...</td>\n",
       "      <td>NaN</td>\n",
       "      <td>26.0</td>\n",
       "      <td>NaN</td>\n",
       "      <td>0.0</td>\n",
       "      <td>0.0</td>\n",
       "      <td>17500.0</td>\n",
       "      <td>-17500.0</td>\n",
       "      <td>NaN</td>\n",
       "      <td>ken.powers@enron.com</td>\n",
       "      <td>0.0</td>\n",
       "    </tr>\n",
       "  </tbody>\n",
       "</table>\n",
       "<p>3 rows × 22 columns</p>\n",
       "</div>"
      ],
      "text/plain": [
       "                  name  salary  to_messages  deferral_payments  \\\n",
       "23         CHAN RONNIE     NaN          NaN                NaN   \n",
       "84   LOCKHART EUGENE E     NaN          NaN                NaN   \n",
       "108     POWERS WILLIAM     NaN        653.0                NaN   \n",
       "\n",
       "     total_payments  exercised_stock_options  bonus  restricted_stock  \\\n",
       "23              NaN                      NaN    NaN           32460.0   \n",
       "84              NaN                      NaN    NaN               NaN   \n",
       "108             NaN                      NaN    NaN               NaN   \n",
       "\n",
       "     shared_receipt_with_poi  restricted_stock_deferred  \\\n",
       "23                       NaN                   -32460.0   \n",
       "84                       NaN                        NaN   \n",
       "108                     12.0                        NaN   \n",
       "\n",
       "              ...             loan_advances  from_messages  other  \\\n",
       "23            ...                       NaN            NaN    NaN   \n",
       "84            ...                       NaN            NaN    NaN   \n",
       "108           ...                       NaN           26.0    NaN   \n",
       "\n",
       "     from_this_person_to_poi  poi  director_fees  deferred_income  \\\n",
       "23                       NaN  0.0        98784.0         -98784.0   \n",
       "84                       NaN  0.0            NaN              NaN   \n",
       "108                      0.0  0.0        17500.0         -17500.0   \n",
       "\n",
       "     long_term_incentive         email_address  from_poi_to_this_person  \n",
       "23                   NaN                   NaN                      NaN  \n",
       "84                   NaN                   NaN                      NaN  \n",
       "108                  NaN  ken.powers@enron.com                      0.0  \n",
       "\n",
       "[3 rows x 22 columns]"
      ]
     },
     "execution_count": 20,
     "metadata": {},
     "output_type": "execute_result"
    }
   ],
   "source": [
    "# Find the person who has NaN value for \"total_payments\" and \"total_stock_value\"\n",
    "df[df['total_payments'].isnull() & df['total_stock_value'].isnull()]"
   ]
  },
  {
   "cell_type": "markdown",
   "metadata": {},
   "source": [
    "For **`'CHAN RONNIE'`**, her `'restricted_stock'` value was offset by `'restricted_stock_deferred'`. Similarly, for **`'POWERS WILLIAM'`**, his `'director_fees'` was offset by `'deferred_income'`. Therefore, the `'total_payments'` and `'total_stock_value'` of these two persons are NaN values.  \n",
    "\n",
    "The third person, **`'LOCKHART EUGENE E'`** has all NaN value for all the features except for the `\"poi\"`. I decided to classify **`'LOCKHART EUGENE E'`** as outlier, together with **`'TOTAL'`** and **`'THE TRAVEL AGENCY IN THE PARK'`**. These three outliers will be removed from the dataset."
   ]
  },
  {
   "cell_type": "code",
   "execution_count": 21,
   "metadata": {},
   "outputs": [],
   "source": [
    "# Remove the outliers from the dataset\n",
    "outlier_list = ['TOTAL', 'THE TRAVEL AGENCY IN THE PARK', 'LOCKHART EUGENE E']\n",
    "df = df[~(df['name'].isin(outlier_list))]\n",
    "df.reset_index(inplace=True)"
   ]
  },
  {
   "cell_type": "markdown",
   "metadata": {},
   "source": [
    "## 4. Feature Selection"
   ]
  },
  {
   "cell_type": "markdown",
   "metadata": {},
   "source": [
    "### New Features\n",
    "Beside financial information, another possible way to identify POI is by examining the email commutations of the Enron employees. We can guess that employees who involved in the corporate fraud tend to have more email communication among each other. Two new features were created based on this assumption: \n",
    "* `'to_poi_ratio'`: the ratio of the `'from_this_person_to_poi'` to `'from_messages'`\n",
    "* `'from_poi_ratio'`: the ratio of the `'from_poi_to_this_person'` to `'to_messages'`\n"
   ]
  },
  {
   "cell_type": "code",
   "execution_count": 22,
   "metadata": {},
   "outputs": [],
   "source": [
    "# Create the two new features\n",
    "features_list.append('to_poi_ratio')\n",
    "features_list.append('from_poi_ratio')\n",
    "\n",
    "df['to_poi_ratio'] = df['from_this_person_to_poi']/df['from_messages']\n",
    "df['from_poi_ratio'] = df['from_poi_to_this_person']/df['to_messages']\n",
    "\n",
    "# Before proceeding to next step, \n",
    "# we keep the selected features in the dataframe\n",
    "# and replace NaN with 0\n",
    "df = df[features_list]\n",
    "df.fillna(0, inplace=True)"
   ]
  },
  {
   "cell_type": "markdown",
   "metadata": {},
   "source": [
    "### Feature Scores\n",
    "To select the best features for prediction models, we use [SelectKBest](http://scikit-learn.org/stable/modules/generated/sklearn.feature_selection.SelectKBest.html#sklearn.feature_selection.SelectKBest) of Sklearn library to evaluate the importance of each features."
   ]
  },
  {
   "cell_type": "code",
   "execution_count": 23,
   "metadata": {},
   "outputs": [],
   "source": [
    "# Seperate the label and the features from the dataframe\n",
    "labels = df['poi']\n",
    "features = df.drop('poi', axis = 1)\n",
    "\n",
    "# Scale the features uisng MinMaxScaler function \n",
    "features = MinMaxScaler().fit_transform(features)"
   ]
  },
  {
   "cell_type": "code",
   "execution_count": 25,
   "metadata": {},
   "outputs": [
    {
     "data": {
      "image/png": "[encoded data removed]",
      "text/plain": [
       "<matplotlib.figure.Figure at 0x1f04f048>"
      ]
     },
     "metadata": {},
     "output_type": "display_data"
    }
   ],
   "source": [
    "# Compute the scores of each features\n",
    "k_best = SelectKBest(k = 'all', score_func = f_classif)\n",
    "k_best.fit(features,labels)\n",
    "scores = k_best.scores_\n",
    "\n",
    "# Sort the scores\n",
    "sorted_scores = list(sorted(zip(features_list[1:], scores), key=lambda x: x[1], reverse = True))\n",
    "sorted_scores_df = pd.DataFrame(sorted_scores, columns=['Features','Scores'])\n",
    "\n",
    "# Plot the scores of each features\n",
    "plt.figure(figsize=(14,6))\n",
    "sns.barplot(x = 'Features', y ='Scores', data = sorted_scores_df,  color = 'b', alpha=0.7)\n",
    "plt.xticks( rotation=70);\n",
    "plt.xlabel('Features')\n",
    "plt.ylabel('Score')\n",
    "plt.title(\"Scores of Each Features Using SelectKBest() Function\");\n"
   ]
  },
  {
   "cell_type": "markdown",
   "metadata": {},
   "source": [
    "Based on the scores computed by `'SelectKBest'` function, the created new features `'to_poi_ratio'` is one of the top features. I decided to use the top six features with the highest scores (features with score > 10) in the classification models. "
   ]
  },
  {
   "cell_type": "code",
   "execution_count": 26,
   "metadata": {},
   "outputs": [
    {
     "name": "stdout",
     "output_type": "stream",
     "text": [
      "\n",
      "Selected features based on SelectKBest scores:\n",
      "exercised_stock_options, total_stock_value, bonus, salary, to_poi_ratio, deferred_income\n"
     ]
    }
   ],
   "source": [
    "# Select the features with score > 10\n",
    "selected_features_list = sorted_scores_df[sorted_scores_df['Scores'] > 10]['Features']\n",
    "selected_features = df[selected_features_list]\n",
    "\n",
    "# Scale the features uisng MinMaxScaler function \n",
    "selected_features = MinMaxScaler().fit_transform(selected_features)\n",
    "\n",
    "print ('\\nSelected features based on SelectKBest scores:')\n",
    "print (', '.join(selected_features_list))"
   ]
  },
  {
   "cell_type": "markdown",
   "metadata": {},
   "source": [
    "To validate our feature selection choice, we compare the classification results of Naive Bayes model that use full features and another model that uses only the selected six features."
   ]
  },
  {
   "cell_type": "code",
   "execution_count": 42,
   "metadata": {},
   "outputs": [
    {
     "name": "stdout",
     "output_type": "stream",
     "text": [
      "Classification result of using full features:\n",
      "             precision    recall  f1-score   support\n",
      "\n",
      "        0.0       0.88      0.19      0.31        37\n",
      "        1.0       0.14      0.83      0.24         6\n",
      "\n",
      "avg / total       0.77      0.28      0.30        43\n",
      "\n"
     ]
    }
   ],
   "source": [
    "# Classification using full features\n",
    "\n",
    "# Seperate the data into training set and test set\n",
    "features_train, features_test, labels_train, labels_test = \\\n",
    "    train_test_split(features, labels, test_size=0.3, random_state=77)\n",
    "\n",
    "# Classification using Naive Bayes model\n",
    "clf_NB = GaussianNB()\n",
    "clf_NB.fit(features_train, labels_train)\n",
    "predictions = clf_NB.predict(features_test)\n",
    "print 'Classification results of using full features:'\n",
    "print classification_report(labels_test, predictions)"
   ]
  },
  {
   "cell_type": "code",
   "execution_count": 50,
   "metadata": {},
   "outputs": [
    {
     "name": "stdout",
     "output_type": "stream",
     "text": [
      "Classification results of using selected features:\n",
      "             precision    recall  f1-score   support\n",
      "\n",
      "        0.0       0.90      1.00      0.95        37\n",
      "        1.0       1.00      0.33      0.50         6\n",
      "\n",
      "avg / total       0.92      0.91      0.89        43\n",
      "\n"
     ]
    }
   ],
   "source": [
    "# Classification using only selected top features\n",
    "\n",
    "# Seperate the data into training set and test set\n",
    "features_train, features_test, labels_train, labels_test = \\\n",
    "    train_test_split(selected_features, labels, test_size=0.3, random_state=77)\n",
    "    \n",
    "# Classification using Naive Bayes model    \n",
    "clf_NB = GaussianNB()\n",
    "clf_NB.fit(features_train, labels_train)\n",
    "predictions = clf_NB.predict(features_test)\n",
    "print 'Classification results of using selected features:'\n",
    "print classification_report(labels_test, predictions)"
   ]
  },
  {
   "cell_type": "markdown",
   "metadata": {},
   "source": [
    "From the above classification report, we can see that the average precision, recall and f1-score of using only the selected six features are better than using full features. This justify our feature selection choice."
   ]
  },
  {
   "cell_type": "markdown",
   "metadata": {},
   "source": [
    "## 5. Model Selection and Optimization\n",
    "### Initial Model Evaluation"
   ]
  },
  {
   "cell_type": "markdown",
   "metadata": {},
   "source": [
    "Four supervised learning classifiers are chosen:\n",
    "* Naive Bayes \n",
    "* Logistic Regression\n",
    "* Decision Tree\n",
    "* AdaBoost \n",
    "\n",
    "Beside standard accuracy, [F1 score](http://scikit-learn.org/stable/modules/generated/sklearn.metrics.f1_score.html) is also used as the metric to compare the classification performance of the machine learning models. F1 score is chosen because it is the weighted average of precision and recall."
   ]
  },
  {
   "cell_type": "code",
   "execution_count": 27,
   "metadata": {},
   "outputs": [
    {
     "data": {
      "image/png": "[encoded data removed]",
      "text/plain": [
       "<matplotlib.figure.Figure at 0x1f6a7940>"
      ]
     },
     "metadata": {},
     "output_type": "display_data"
    }
   ],
   "source": [
    "# Seperate the data into training set and test set\n",
    "features_train, features_test, labels_train, labels_test = \\\n",
    "    train_test_split(selected_features, labels, test_size=0.3, random_state= 71)\n",
    "    \n",
    "random_state = 10\n",
    "# Initialize the four models\n",
    "clf_A = GaussianNB()\n",
    "clf_B = LogisticRegression(random_state = random_state)\n",
    "clf_C = DecisionTreeClassifier(random_state = random_state)\n",
    "clf_D = AdaBoostClassifier(random_state = random_state)\n",
    "\n",
    "# Collect results on the learners\n",
    "results = {}\n",
    "for clf in [clf_A, clf_B, clf_C, clf_D]: \n",
    "    clf_name = clf.__class__.__name__\n",
    "    clf.fit(features_train, labels_train)\n",
    "    predictions = clf.predict(features_test)\n",
    "        \n",
    "    results[clf_name] = {}\n",
    "    results[clf_name]['Accuracy'] = accuracy_score(labels_test,predictions)\n",
    "    results[clf_name]['F1 Score'] = f1_score(labels_test,predictions)\n",
    "\n",
    "# Convert the classification results to dataframe\n",
    "results_df = pd.DataFrame.from_dict(results, orient='index', dtype=np.float)\n",
    "results_df.reset_index(inplace=True)\n",
    "results_df = pd.melt(results_df, id_vars=\"index\", var_name=\"Metric\", value_name = 'Score')\n",
    "results_df.rename(columns={'index': 'Classifier'}, inplace=True)\n",
    "\n",
    "# Plot the performance metrics for four classifiers\n",
    "sns.set_style('whitegrid')\n",
    "sns.factorplot(x='Classifier', y='Score', hue='Metric', data=results_df,\n",
    "               kind='bar',palette='rainbow',\n",
    "               size = 5, aspect = 2);\n",
    "plt.xlabel('Classifiers')\n",
    "plt.ylabel('Score')\n",
    "plt.title(\"Performance Metrics For Four Classifiers\");"
   ]
  },
  {
   "cell_type": "markdown",
   "metadata": {},
   "source": [
    "The plot shows that decision tree model has highest values for both accuracy and F1 score. Therefore, it is chosen as the final model for tuning. It is also interesting to note that simple model like Naive Bayes can achieve performance comparable to more sophisticated decision tree model. "
   ]
  },
  {
   "cell_type": "markdown",
   "metadata": {},
   "source": [
    "### Model Tuning"
   ]
  },
  {
   "cell_type": "markdown",
   "metadata": {},
   "source": [
    "Some algorithms have different parameters that can be changed. Tweaking these parameters and trying different parameter combinations could change the performance of the algorithms. We use grid search cross validation ([GridSearchCV](http://scikit-learn.org/stable/modules/generated/sklearn.model_selection.GridSearchCV.html) via Sklearn) to tune the parameters of the decision tree model. The [parameters](http://scikit-learn.org/stable/modules/generated/sklearn.tree.DecisionTreeClassifier.html) to be tuned are `'max_depth'`, `'min_samples_leaf'`, `'criterion'` and `'splitter'`. [F1](http://scikit-learn.org/stable/modules/generated/sklearn.metrics.f1_score.html) is used as the scoring function and [StratifiedShuffleSplit](http://scikit-learn.org/stable/modules/generated/sklearn.model_selection.GridSearchCV.html) is used to generate cross-validation dataset.\n"
   ]
  },
  {
   "cell_type": "code",
   "execution_count": 102,
   "metadata": {},
   "outputs": [],
   "source": [
    "# Seperate the data into training set and test set\n",
    "features_train, features_test, labels_train, labels_test = \\\n",
    "    train_test_split(selected_features, labels, test_size = 0.3, random_state = 789)\n",
    "\n",
    "# Initialize the classifier\n",
    "clf = DecisionTreeClassifier(random_state = 485)\n",
    "\n",
    "# Create the parameters list\n",
    "parameters  = {'max_depth': np.arange(3, 15),'min_samples_leaf': np.arange(5, 15),\n",
    "              'criterion': ['gini','entropy'], 'splitter' : ['best','random']}\n",
    "\n",
    "# Create the scoring function\n",
    "scorer = make_scorer(f1_score)  \n",
    "\n",
    "# Generate cross-validation dataset\n",
    "cv = StratifiedShuffleSplit(labels_train, n_iter = 10, random_state = 42)\n",
    "\n",
    "# Perform grid search on the classifier using 'scorer' as the scoring method\n",
    "grid_obj = GridSearchCV(estimator = clf, param_grid = parameters, scoring = scorer, cv = cv)\n",
    "\n",
    "# Fit the grid search object to the training data and find the optimal parameters\n",
    "grid_fit = grid_obj.fit(features_train, labels_train)\n",
    "\n",
    "# Get the best estimator\n",
    "best_estimator = grid_fit.best_estimator_\n",
    "\n",
    "# Make predictions using the default and optimized models\n",
    "predictions = (clf.fit(features_train, labels_train)).predict(features_test)\n",
    "best_predictions = best_estimator.predict(features_test)\n"
   ]
  },
  {
   "cell_type": "code",
   "execution_count": 103,
   "metadata": {},
   "outputs": [
    {
     "name": "stdout",
     "output_type": "stream",
     "text": [
      "\n",
      "Best parameters:\n",
      "{'splitter': 'best', 'criterion': 'entropy', 'max_depth': 3, 'min_samples_leaf': 13}\n",
      "\n",
      "Unoptimized Model\n",
      "------\n",
      "Accuracy score on testing data: 0.8605\n",
      "Precision on testing data: 0.5000\n",
      "Recall on testing data: 0.3333\n",
      "F1-score on testing data: 0.4000\n",
      "\n",
      "Optimized Model\n",
      "------\n",
      "Final accuracy score on the testing data: 0.8837\n",
      "Final precision on testing data: 0.6667\n",
      "Final recall on testing data: 0.3333\n",
      "Final F1-score on the testing data: 0.4444\n",
      "\n",
      "\n",
      "             precision    recall  f1-score   support\n",
      "\n",
      "        0.0       0.90      0.97      0.94        37\n",
      "        1.0       0.67      0.33      0.44         6\n",
      "\n",
      "avg / total       0.87      0.88      0.87        43\n",
      "\n"
     ]
    },
    {
     "data": {
      "image/png": "[encoded data removed]",
      "text/plain": [
       "<matplotlib.figure.Figure at 0x1f515be0>"
      ]
     },
     "metadata": {},
     "output_type": "display_data"
    }
   ],
   "source": [
    "# Collect the prediction results\n",
    "results = {}\n",
    "results['Unoptimized Model'] = {}\n",
    "results['Unoptimized Model']['Accuracy'] = accuracy_score(labels_test, predictions)\n",
    "results['Unoptimized Model']['F1 Score'] = f1_score(labels_test, predictions)\n",
    "results['Unoptimized Model']['Precision'] = precision_score(labels_test, predictions)\n",
    "results['Unoptimized Model']['Recall'] = recall_score(labels_test, predictions)\n",
    "\n",
    "results['Optimized Model'] = {}\n",
    "results['Optimized Model']['Accuracy'] = accuracy_score(labels_test,best_predictions)\n",
    "results['Optimized Model']['F1 Score'] = f1_score(labels_test, best_predictions)\n",
    "results['Optimized Model']['Precision'] = precision_score(labels_test, best_predictions)\n",
    "results['Optimized Model']['Recall'] = recall_score(labels_test, best_predictions)\n",
    "\n",
    "# Report the before-and-after scores\n",
    "print '\\nBest parameters:'\n",
    "print grid_fit.best_params_\n",
    "print \"\\nUnoptimized Model\\n------\"\n",
    "print \"Accuracy score on testing data: {:.4f}\".format(results['Unoptimized Model']['Accuracy'])\n",
    "print \"Precision on testing data: {:.4f}\".format(results['Unoptimized Model']['Precision'])\n",
    "print \"Recall on testing data: {:.4f}\".format(results['Unoptimized Model']['Recall'])\n",
    "print \"F1-score on testing data: {:.4f}\".format(results['Unoptimized Model']['F1 Score'])\n",
    "print \"\\nOptimized Model\\n------\"\n",
    "print \"Final accuracy score on the testing data: {:.4f}\".format(results['Optimized Model']['Accuracy'])\n",
    "print \"Final precision on testing data: {:.4f}\".format(results['Optimized Model']['Precision'])\n",
    "print \"Final recall on testing data: {:.4f}\".format(results['Optimized Model']['Recall'])\n",
    "print \"Final F1-score on the testing data: {:.4f}\".format(results['Optimized Model']['F1 Score'])\n",
    "print '\\n'\n",
    "print classification_report(labels_test, best_predictions)\n",
    "\n",
    "# Convert the classification results to dataframe\n",
    "results_df = pd.DataFrame.from_dict(results, orient='index', dtype=np.float)\n",
    "results_df.reset_index(inplace=True)\n",
    "results_df = pd.melt(results_df, id_vars=\"index\", var_name=\"Metric\", value_name = 'Score')\n",
    "results_df.rename(columns={'index': 'Model'}, inplace=True)\n",
    "\n",
    "# Plot the results\n",
    "sns.set_style('whitegrid')\n",
    "sns.factorplot(x='Metric', y='Score', hue='Model', data=results_df,\n",
    "               order = ['Accuracy', 'Precision', 'Recall', 'F1 Score'],\n",
    "               hue_order = ['Unoptimized Model','Optimized Model'],\n",
    "               kind='bar',palette='bright',\n",
    "               size = 5, aspect = 2);\n",
    "plt.xlabel('Metrics')\n",
    "plt.ylabel('Score')\n",
    "plt.title(\"Classification Performance of Decision Tree Model on Testing Data After Fine-Tuning\");"
   ]
  },
  {
   "cell_type": "markdown",
   "metadata": {},
   "source": [
    "After fine-tuning, the optimized model outperformed unoptimized model in all metrics but recall. "
   ]
  },
  {
   "cell_type": "markdown",
   "metadata": {},
   "source": [
    "## 6. Validation and Evaluation"
   ]
  },
  {
   "cell_type": "markdown",
   "metadata": {},
   "source": [
    "### Validation Strategy and Performance Metrics\n",
    "\n",
    "The purpose of validation in learning algorithm training is to avoid overfitting. This is achieved by splitting the dataset into 70% training set and 30% testing set in the above process. If all dataset is used in training, the model may perform well on this dataset, but perform poorly on new data that the model has never seen. \n",
    "\n",
    "Four metrics are used to evaluate the classification performance. Accuracy measures the number of correct predictions. Precision measures a classifiers exactness and the recall measures a classifiers completeness. In the context of this project, precision indicates the proportion of number of actual POI among all the employees identified by the model as POI. Recall indicates the proportion of the employees identified by the model as POI among all actual POI in the Enron scandal. F1 score is the weighted average of precision and recall. In small dataset with uneven class distribution, precision, recall and F1 score are more useful than accuracy. Therefore, F1 score is used as scoring function in the `'GridSearchCV'`. \n"
   ]
  },
  {
   "cell_type": "markdown",
   "metadata": {},
   "source": [
    "### Final Model Evaluation\n",
    "\n",
    "\n",
    "The performance of the optimized model is evaluated by using `'test_classifier'` function in `'tester.py'` script. This function uses stratified ['StratifiedShuffleSplit'](http://scikit-learn.org/stable/modules/generated/sklearn.model_selection.StratifiedShuffleSplit.html#sklearn.model_selection.StratifiedShuffleSplit) cross validation due to small dataset. Compared with simpler cross-validation method such as ['train_test_split'](http://scikit-learn.org/stable/modules/generated/sklearn.model_selection.train_test_split.html), `'StratifiedShuffleSplit'` will make randomly chosen training and test sets multiple times and average the results over all the tests. The Enron data is also unbalanced with many more non-POIs than POIs. `'StratifidShuffleSplit'` makes sure that the ratio of non-POI:POI is the same in the training and test sets as it was in the larger data set. The performance of the final model evaluated by using `'StratifiedShuffleSplit'` is more robust compared with evaluation by using other methods."
   ]
  },
  {
   "cell_type": "code",
   "execution_count": 105,
   "metadata": {},
   "outputs": [
    {
     "name": "stdout",
     "output_type": "stream",
     "text": [
      "DecisionTreeClassifier(class_weight=None, criterion='entropy', max_depth=3,\n",
      "            max_features=None, max_leaf_nodes=None,\n",
      "            min_impurity_split=1e-07, min_samples_leaf=13,\n",
      "            min_samples_split=2, min_weight_fraction_leaf=0.0,\n",
      "            presort=False, random_state=485, splitter='best')\n",
      "\tAccuracy: 0.84207\tPrecision: 0.38618\tRecall: 0.31300\tF1: 0.34576\tF2: 0.32533\n",
      "\tTotal predictions: 15000\tTrue positives:  626\tFalse positives:  995\tFalse negatives: 1374\tTrue negatives: 12005\n",
      "\n"
     ]
    }
   ],
   "source": [
    "# Convert the data to dictionary to be compatible with 'test_classifier' input format\n",
    "selected_features_df = pd.DataFrame(data = selected_features, columns = selected_features_list)\n",
    "labels_df = pd.DataFrame(data = labels)\n",
    "\n",
    "my_dataset_df = pd.concat([labels_df, selected_features_df], axis=1)\n",
    "my_dataset = pd.DataFrame.to_dict(my_dataset_df, orient='index')\n",
    "\n",
    "# Dump the classifier, dataset, and features_list as pickle files\n",
    "dump_classifier_and_data(best_estimator, my_dataset, list(my_dataset_df.columns))\n",
    "\n",
    "# Pass the optimized model to the 'test_classifier' function\n",
    "test_classifier(best_estimator, my_dataset, list(my_dataset_df.columns))"
   ]
  },
  {
   "cell_type": "markdown",
   "metadata": {},
   "source": [
    "## 7. Summary\n",
    "\n"
   ]
  },
  {
   "cell_type": "markdown",
   "metadata": {},
   "source": [
    "The objective of this project is using machine learning methods to identify Enron Employees who may have committed fraud based on the public Enron financial and email dataset. Initial data exploration reveals that the dataset is small, has a lot of missing value, outliers and unbalance class distribution. These are common characteristics found in real-world dataset. We removed all the outliers from the dataset and replaced all missing values by '0' during data auditing.\n",
    "\n",
    "We also created two new features based on original email features of the dataset. By using feature selection function `'SelectKBest'`, six most importance features were selected to build the learning models. One of them is the new engineered feature.\n",
    "\n",
    "Next, we compared the classification performance of different machine learning models based on the selected features. To avoid overfitting, the dataset was partitioned into training and testing sets. Decision tree classifier with highest F1 score was chosen to be the final mode. The parameters of the model were optimized by using `'GridSearchCV'`. Both precision and recall scores of the final model are greater than 0.3 after parameter tuning.\n"
   ]
  }
 ],
 "metadata": {
  "kernelspec": {
   "display_name": "Python 2",
   "language": "python",
   "name": "python2"
  },
  "language_info": {
   "codemirror_mode": {
    "name": "ipython",
    "version": 2
   },
   "file_extension": ".py",
   "mimetype": "text/x-python",
   "name": "python",
   "nbconvert_exporter": "python",
   "pygments_lexer": "ipython2",
   "version": "2.7.13"
  }
 },
 "nbformat": 4,
 "nbformat_minor": 2
}
